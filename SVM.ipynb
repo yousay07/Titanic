{
 "cells": [
  {
   "cell_type": "code",
   "execution_count": null,
   "metadata": {},
   "outputs": [],
   "source": [
    "#http://www.mirandora.com/?p=1804"
   ]
  },
  {
   "cell_type": "code",
   "execution_count": 1,
   "metadata": {},
   "outputs": [],
   "source": [
    "import pandas as pd\n",
    "train = pd.read_csv('/Users/yousay/Downloads/all/train.csv')\n",
    "test = pd.read_csv('/Users/yousay/Downloads/all/test.csv')"
   ]
  },
  {
   "cell_type": "code",
   "execution_count": 2,
   "metadata": {},
   "outputs": [],
   "source": [
    "train.Embarked = train.Embarked.replace([\"C\", \"S\", \"Q\"], [0,1,2])\n",
    "train.Sex = train.Sex.replace([\"male\", \"female\"], [0, 1])"
   ]
  },
  {
   "cell_type": "code",
   "execution_count": 5,
   "metadata": {},
   "outputs": [],
   "source": [
    "train_dn = train.dropna()\n",
    "train_dn = train_dn.drop([\"PassengerId\", \"Name\", \"Ticket\", \"Cabin\"], axis = 1)"
   ]
  },
  {
   "cell_type": "code",
   "execution_count": 6,
   "metadata": {},
   "outputs": [
    {
     "data": {
      "text/html": [
       "<div>\n",
       "<style scoped>\n",
       "    .dataframe tbody tr th:only-of-type {\n",
       "        vertical-align: middle;\n",
       "    }\n",
       "\n",
       "    .dataframe tbody tr th {\n",
       "        vertical-align: top;\n",
       "    }\n",
       "\n",
       "    .dataframe thead th {\n",
       "        text-align: right;\n",
       "    }\n",
       "</style>\n",
       "<table border=\"1\" class=\"dataframe\">\n",
       "  <thead>\n",
       "    <tr style=\"text-align: right;\">\n",
       "      <th></th>\n",
       "      <th>Survived</th>\n",
       "      <th>Pclass</th>\n",
       "      <th>Sex</th>\n",
       "      <th>Age</th>\n",
       "      <th>SibSp</th>\n",
       "      <th>Parch</th>\n",
       "      <th>Fare</th>\n",
       "      <th>Embarked</th>\n",
       "    </tr>\n",
       "  </thead>\n",
       "  <tbody>\n",
       "    <tr>\n",
       "      <th>Survived</th>\n",
       "      <td>1.000000</td>\n",
       "      <td>-0.034542</td>\n",
       "      <td>0.532418</td>\n",
       "      <td>-0.254085</td>\n",
       "      <td>0.106346</td>\n",
       "      <td>0.023582</td>\n",
       "      <td>0.134241</td>\n",
       "      <td>-0.108914</td>\n",
       "    </tr>\n",
       "    <tr>\n",
       "      <th>Pclass</th>\n",
       "      <td>-0.034542</td>\n",
       "      <td>1.000000</td>\n",
       "      <td>0.046181</td>\n",
       "      <td>-0.306514</td>\n",
       "      <td>-0.103592</td>\n",
       "      <td>0.047496</td>\n",
       "      <td>-0.315235</td>\n",
       "      <td>0.214796</td>\n",
       "    </tr>\n",
       "    <tr>\n",
       "      <th>Sex</th>\n",
       "      <td>0.532418</td>\n",
       "      <td>0.046181</td>\n",
       "      <td>1.000000</td>\n",
       "      <td>-0.184969</td>\n",
       "      <td>0.104291</td>\n",
       "      <td>0.089581</td>\n",
       "      <td>0.130433</td>\n",
       "      <td>-0.059453</td>\n",
       "    </tr>\n",
       "    <tr>\n",
       "      <th>Age</th>\n",
       "      <td>-0.254085</td>\n",
       "      <td>-0.306514</td>\n",
       "      <td>-0.184969</td>\n",
       "      <td>1.000000</td>\n",
       "      <td>-0.156162</td>\n",
       "      <td>-0.271271</td>\n",
       "      <td>-0.092424</td>\n",
       "      <td>-0.077790</td>\n",
       "    </tr>\n",
       "    <tr>\n",
       "      <th>SibSp</th>\n",
       "      <td>0.106346</td>\n",
       "      <td>-0.103592</td>\n",
       "      <td>0.104291</td>\n",
       "      <td>-0.156162</td>\n",
       "      <td>1.000000</td>\n",
       "      <td>0.255346</td>\n",
       "      <td>0.286433</td>\n",
       "      <td>0.089959</td>\n",
       "    </tr>\n",
       "    <tr>\n",
       "      <th>Parch</th>\n",
       "      <td>0.023582</td>\n",
       "      <td>0.047496</td>\n",
       "      <td>0.089581</td>\n",
       "      <td>-0.271271</td>\n",
       "      <td>0.255346</td>\n",
       "      <td>1.000000</td>\n",
       "      <td>0.389740</td>\n",
       "      <td>0.057653</td>\n",
       "    </tr>\n",
       "    <tr>\n",
       "      <th>Fare</th>\n",
       "      <td>0.134241</td>\n",
       "      <td>-0.315235</td>\n",
       "      <td>0.130433</td>\n",
       "      <td>-0.092424</td>\n",
       "      <td>0.286433</td>\n",
       "      <td>0.389740</td>\n",
       "      <td>1.000000</td>\n",
       "      <td>-0.227926</td>\n",
       "    </tr>\n",
       "    <tr>\n",
       "      <th>Embarked</th>\n",
       "      <td>-0.108914</td>\n",
       "      <td>0.214796</td>\n",
       "      <td>-0.059453</td>\n",
       "      <td>-0.077790</td>\n",
       "      <td>0.089959</td>\n",
       "      <td>0.057653</td>\n",
       "      <td>-0.227926</td>\n",
       "      <td>1.000000</td>\n",
       "    </tr>\n",
       "  </tbody>\n",
       "</table>\n",
       "</div>"
      ],
      "text/plain": [
       "          Survived    Pclass       Sex       Age     SibSp     Parch  \\\n",
       "Survived  1.000000 -0.034542  0.532418 -0.254085  0.106346  0.023582   \n",
       "Pclass   -0.034542  1.000000  0.046181 -0.306514 -0.103592  0.047496   \n",
       "Sex       0.532418  0.046181  1.000000 -0.184969  0.104291  0.089581   \n",
       "Age      -0.254085 -0.306514 -0.184969  1.000000 -0.156162 -0.271271   \n",
       "SibSp     0.106346 -0.103592  0.104291 -0.156162  1.000000  0.255346   \n",
       "Parch     0.023582  0.047496  0.089581 -0.271271  0.255346  1.000000   \n",
       "Fare      0.134241 -0.315235  0.130433 -0.092424  0.286433  0.389740   \n",
       "Embarked -0.108914  0.214796 -0.059453 -0.077790  0.089959  0.057653   \n",
       "\n",
       "              Fare  Embarked  \n",
       "Survived  0.134241 -0.108914  \n",
       "Pclass   -0.315235  0.214796  \n",
       "Sex       0.130433 -0.059453  \n",
       "Age      -0.092424 -0.077790  \n",
       "SibSp     0.286433  0.089959  \n",
       "Parch     0.389740  0.057653  \n",
       "Fare      1.000000 -0.227926  \n",
       "Embarked -0.227926  1.000000  "
      ]
     },
     "execution_count": 6,
     "metadata": {},
     "output_type": "execute_result"
    }
   ],
   "source": [
    "train_dn.corr()"
   ]
  },
  {
   "cell_type": "code",
   "execution_count": 9,
   "metadata": {},
   "outputs": [
    {
     "data": {
      "text/plain": [
       "<matplotlib.collections.PathCollection at 0x1a1de2f2b0>"
      ]
     },
     "execution_count": 9,
     "metadata": {},
     "output_type": "execute_result"
    },
    {
     "data": {
      "image/png": "[encoded data removed]",
      "text/plain": [
       "<Figure size 432x288 with 1 Axes>"
      ]
     },
     "metadata": {},
     "output_type": "display_data"
    }
   ],
   "source": [
    "import matplotlib.pyplot as plt\n",
    "import seaborn as sns\n",
    "plt.style.use(\"ggplot\")\n",
    "train_sur = train_dn[train_dn.Survived == 1]\n",
    "train_sur_age = train_sur.iloc[:, 3]\n",
    "train_sur_sex = train_sur.iloc[:,2]\n",
    "plt.scatter(train_sur_age, train_sur_sex, color = \"blue\")\n",
    "\n",
    "train_nsur = train_dn[train_dn.Survived == 0]\n",
    "train_nsur_age = train_nsur.iloc[:, 3]\n",
    "train_nsur_sex = train_nsur.iloc[:, 2]\n",
    "plt.scatter(train_nsur_age, train_nsur_sex, color = \"red\")"
   ]
  },
  {
   "cell_type": "code",
   "execution_count": 11,
   "metadata": {},
   "outputs": [],
   "source": [
    "def name_classifier(name_df):\n",
    "    name_class_df = pd.DataFrame(columns = [\"miss\", \"mrs\", \"master\", \"mr\"])\n",
    "    \n",
    "    for name in name_df:\n",
    "        if \"Miss\" in name:\n",
    "            df = pd.DataFrame([[1,0,0,0]], columns = [\"miss\", \"mrs\", \"master\", \"mr\"])\n",
    "        elif \"Mrs\" in name:\n",
    "            df = pd.DataFrame([[0,1,0,0]], columns = [\"miss\", \"mrs\", \"master\", \"mr\"])\n",
    "        elif \"Master\" in name:\n",
    "            df = pd.DataFrame([[0,0,1,0]], columns = [\"miss\", \"mrs\", \"master\", \"mr\"])\n",
    "        elif \"Mr\" in name:\n",
    "            df = pd.DataFrame([[0,0,0,1]], columns = [\"miss\", \"mrs\", \"master\", \"mr\"])\n",
    "        else:\n",
    "            df = pd.DataFrame([[0,0,0,0]], columns = [\"miss\", \"mrs\", \"master\", \"mr\"])\n",
    "        name_class_df = name_class_df.append(df, ignore_index = True)\n",
    "    return name_class_df"
   ]
  },
  {
   "cell_type": "code",
   "execution_count": 18,
   "metadata": {},
   "outputs": [],
   "source": [
    "name_train = train.loc[:,\"Name\"]\n",
    "survive_array = train.loc[:, \"Survived\"]\n",
    "name_array = []\n",
    "name_count = []\n",
    "name_survive_count = []\n",
    "name_survive_ratio = []\n",
    "name_i = 0\n",
    "name_df = name_train"
   ]
  },
  {
   "cell_type": "code",
   "execution_count": 19,
   "metadata": {},
   "outputs": [],
   "source": [
    "for name in name_df:\n",
    "    name_split = name.split(\" \")\n",
    "    name_split_first = name_split[0].replace(\",\", \"\")\n",
    "    if name_split_first in name_array:\n",
    "        name_count[name_array.index(name_split_first)] += 1\n",
    "        name_survive_count[name_array.index(name_split_first)] += name_i\n",
    "    else:\n",
    "        name_array.append(name_split_first)\n",
    "        name_count.append(1)\n",
    "        name_survive_count.append(survive_array[name_i])\n",
    "    name_i += 1"
   ]
  },
  {
   "cell_type": "markdown",
   "metadata": {},
   "source": []
  },
  {
   "cell_type": "code",
   "execution_count": 31,
   "metadata": {},
   "outputs": [],
   "source": [
    "count = 0\n",
    "for i in name_count:\n",
    "    if name_count[count] == 1:\n",
    "        name_survive_ratio.append(0)\n",
    "    else:\n",
    "        name_survive_ratio.append(name_survive_count[count]/name_count[count])\n",
    "    count += 1"
   ]
  },
  {
   "cell_type": "code",
   "execution_count": 35,
   "metadata": {},
   "outputs": [],
   "source": [
    "survive_ratio_array = []\n",
    "for name in name_df:\n",
    "    name_split = name.split(\" \")\n",
    "    name_split_first = name_split[0].replace(\",\", \"\")\n",
    "    survive_ratio_array.append(name_survive_ratio[name_array.index(name_split_first)])\n"
   ]
  },
  {
   "cell_type": "code",
   "execution_count": null,
   "metadata": {},
   "outputs": [],
   "source": []
  }
 ],
 "metadata": {
  "kernelspec": {
   "display_name": "Python 3",
   "language": "python",
   "name": "python3"
  },
  "language_info": {
   "codemirror_mode": {
    "name": "ipython",
    "version": 3
   },
   "file_extension": ".py",
   "mimetype": "text/x-python",
   "name": "python",
   "nbconvert_exporter": "python",
   "pygments_lexer": "ipython3",
   "version": "3.7.0"
  }
 },
 "nbformat": 4,
 "nbformat_minor": 2
}
